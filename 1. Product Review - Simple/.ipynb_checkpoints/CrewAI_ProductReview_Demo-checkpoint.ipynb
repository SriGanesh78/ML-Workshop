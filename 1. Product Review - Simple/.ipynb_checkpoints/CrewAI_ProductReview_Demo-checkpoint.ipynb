
{
 "cells": [
  {
   "cell_type": "markdown",
   "metadata": {},
   "source": [
    "# CrewAI Demo: E-Commerce Product Review Summary"
   ]
  },
  {
   "cell_type": "code",
   "metadata": {},
   "source": [
    "!pip install crewai pandas"
   ],
   "execution_count": null,
   "outputs": []
  },
  {
   "cell_type": "code",
   "metadata": {},
   "source": [
    "import pandas as pd\n",
    "from crewai import Agent, Task, Crew\n\n",
    "# Load dataset\n",
    "df = pd.read_csv('product_reviews.csv')\n\n",
    "# Agent 1: Cleaner\n",
    "cleaner = Agent(role='Cleaner', goal='Filter out short reviews <20 characters', verbose=True)\n",
    "task1 = Task(\n",
    "    description='Remove rows where review_text length < 20 chars.',\n",
    "    expected_output='Cleaned DataFrame',\n",
    "    agent=cleaner\n",
    ")\n\n",
    "# Agent 2: Summarizer\n",
    "summarizer = Agent(role='Summarizer', goal='Summarize frequent review themes', verbose=True)\n",
    "task2 = Task(\n",
    "    description='Given cleaned reviews, provide top 3 themes with examples.',\n",
    "    expected_output='List of themes with supporting quotes',\n",
    "    agent=summarizer\n",
    ")\n\n",
    "# Create and run Crew\n",
    "crew = Crew(agents=[cleaner, summarizer], tasks=[task1, task2], verbose=True)\n",
    "result = crew.kickoff(context={'df': df})\n",
    "print(result)"
   ],
   "execution_count": null,
   "outputs": []
  }
 ],
 "metadata": {
  "kernelspec": {
   "display_name": "Python 3",
   "language": "python",
   "name": "python3"
  },
  "language_info": {
   "name": "python",
   "version": ""
  }
 },
 "nbformat": 4,
 "nbformat_minor": 2
}
