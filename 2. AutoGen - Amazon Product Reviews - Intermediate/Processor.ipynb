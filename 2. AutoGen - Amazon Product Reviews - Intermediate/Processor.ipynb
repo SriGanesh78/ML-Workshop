{
 "cells": [
  {
   "cell_type": "code",
   "execution_count": 1,
   "id": "fc589afb",
   "metadata": {},
   "outputs": [
    {
     "data": {
      "text/html": [
       "<div>\n",
       "<style scoped>\n",
       "    .dataframe tbody tr th:only-of-type {\n",
       "        vertical-align: middle;\n",
       "    }\n",
       "\n",
       "    .dataframe tbody tr th {\n",
       "        vertical-align: top;\n",
       "    }\n",
       "\n",
       "    .dataframe thead th {\n",
       "        text-align: right;\n",
       "    }\n",
       "</style>\n",
       "<table border=\"1\" class=\"dataframe\">\n",
       "  <thead>\n",
       "    <tr style=\"text-align: right;\">\n",
       "      <th></th>\n",
       "      <th>Id</th>\n",
       "      <th>Summary</th>\n",
       "      <th>Text</th>\n",
       "      <th>Score</th>\n",
       "    </tr>\n",
       "  </thead>\n",
       "  <tbody>\n",
       "    <tr>\n",
       "      <th>0</th>\n",
       "      <td>1</td>\n",
       "      <td>Good Quality Dog Food</td>\n",
       "      <td>I have bought several of the Vitality canned d...</td>\n",
       "      <td>5</td>\n",
       "    </tr>\n",
       "    <tr>\n",
       "      <th>1</th>\n",
       "      <td>2</td>\n",
       "      <td>Not as Advertised</td>\n",
       "      <td>Product arrived labeled as Jumbo Salted Peanut...</td>\n",
       "      <td>1</td>\n",
       "    </tr>\n",
       "    <tr>\n",
       "      <th>2</th>\n",
       "      <td>3</td>\n",
       "      <td>\"Delight\" says it all</td>\n",
       "      <td>This is a confection that has been around a fe...</td>\n",
       "      <td>4</td>\n",
       "    </tr>\n",
       "    <tr>\n",
       "      <th>3</th>\n",
       "      <td>4</td>\n",
       "      <td>Cough Medicine</td>\n",
       "      <td>If you are looking for the secret ingredient i...</td>\n",
       "      <td>2</td>\n",
       "    </tr>\n",
       "    <tr>\n",
       "      <th>4</th>\n",
       "      <td>5</td>\n",
       "      <td>Great taffy</td>\n",
       "      <td>Great taffy at a great price.  There was a wid...</td>\n",
       "      <td>5</td>\n",
       "    </tr>\n",
       "  </tbody>\n",
       "</table>\n",
       "</div>"
      ],
      "text/plain": [
       "   Id                Summary  \\\n",
       "0   1  Good Quality Dog Food   \n",
       "1   2      Not as Advertised   \n",
       "2   3  \"Delight\" says it all   \n",
       "3   4         Cough Medicine   \n",
       "4   5            Great taffy   \n",
       "\n",
       "                                                Text  Score  \n",
       "0  I have bought several of the Vitality canned d...      5  \n",
       "1  Product arrived labeled as Jumbo Salted Peanut...      1  \n",
       "2  This is a confection that has been around a fe...      4  \n",
       "3  If you are looking for the secret ingredient i...      2  \n",
       "4  Great taffy at a great price.  There was a wid...      5  "
      ]
     },
     "execution_count": 1,
     "metadata": {},
     "output_type": "execute_result"
    }
   ],
   "source": [
    "import pandas as pd\n",
    "df = pd.read_csv('Amazon_reviews.csv')\n",
    "df.head()"
   ]
  },
  {
   "cell_type": "code",
   "execution_count": 2,
   "id": "5e66b72f",
   "metadata": {},
   "outputs": [
    {
     "data": {
      "text/plain": [
       "[['product',\n",
       "  'good',\n",
       "  'like',\n",
       "  'great',\n",
       "  'food',\n",
       "  'just',\n",
       "  'taste',\n",
       "  'love',\n",
       "  'really',\n",
       "  'chocolate'],\n",
       " ['coffee',\n",
       "  'cup',\n",
       "  'cups',\n",
       "  'flavor',\n",
       "  'roast',\n",
       "  'like',\n",
       "  'strong',\n",
       "  'bold',\n",
       "  'taste',\n",
       "  'smooth'],\n",
       " ['br',\n",
       "  'juice',\n",
       "  'orange',\n",
       "  'soda',\n",
       "  'sugar',\n",
       "  'drink',\n",
       "  'water',\n",
       "  'tangerine',\n",
       "  'natural',\n",
       "  'switch'],\n",
       " ['tea',\n",
       "  'green',\n",
       "  'iced',\n",
       "  'teas',\n",
       "  'drink',\n",
       "  'flavor',\n",
       "  'like',\n",
       "  'taste',\n",
       "  'bags',\n",
       "  'love'],\n",
       " ['chips',\n",
       "  'salt',\n",
       "  'potato',\n",
       "  'bag',\n",
       "  'flavor',\n",
       "  'kettle',\n",
       "  'vinegar',\n",
       "  'great',\n",
       "  'chip',\n",
       "  'bags']]"
      ]
     },
     "execution_count": 2,
     "metadata": {},
     "output_type": "execute_result"
    }
   ],
   "source": [
    "from sklearn.feature_extraction.text import TfidfVectorizer\n",
    "from sklearn.decomposition import NMF\n",
    "\n",
    "# Limit dataset to avoid memory issues\n",
    "df_sample = df.dropna(subset=['Text']).head(10000)\n",
    "\n",
    "# Vectorize the text using TF-IDF\n",
    "tfidf_vectorizer = TfidfVectorizer(max_df=0.95, min_df=10, stop_words='english')\n",
    "tfidf = tfidf_vectorizer.fit_transform(df_sample['Text'])\n",
    "\n",
    "# Use NMF for topic modeling\n",
    "nmf = NMF(n_components=5, random_state=42)\n",
    "nmf_topics = nmf.fit_transform(tfidf)\n",
    "\n",
    "# Extract top words per topic\n",
    "feature_names = tfidf_vectorizer.get_feature_names_out()\n",
    "top_words_per_topic = []\n",
    "\n",
    "for topic_idx, topic in enumerate(nmf.components_):\n",
    "    top_words = [feature_names[i] for i in topic.argsort()[:-11:-1]]\n",
    "    top_words_per_topic.append(top_words)\n",
    "\n",
    "top_words_per_topic\n"
   ]
  },
  {
   "cell_type": "markdown",
   "id": "918852bf",
   "metadata": {},
   "source": [
    "| **Topic #** | **Top Words**                             | **Likely Category**   |\n",
    "| ----------- | ----------------------------------------- | --------------------- |\n",
    "| Topic 1     | product, good, food, taste, chocolate     | General Snacks & Food |\n",
    "| Topic 2     | coffee, cup, roast, bold, smooth          | Coffee & Beverages    |\n",
    "| Topic 3     | juice, orange, soda, tangerine, drink     | Juices & Soft Drinks  |\n",
    "| Topic 4     | tea, green, iced, bags, flavor            | Tea Products          |\n",
    "| Topic 5     | chips, potato, salt, bag, kettle, vinegar | Chips & Savory Snacks |\n"
   ]
  },
  {
   "cell_type": "code",
   "execution_count": null,
   "id": "a0b4ff14",
   "metadata": {},
   "outputs": [],
   "source": []
  },
  {
   "cell_type": "code",
   "execution_count": null,
   "id": "fff0db0e",
   "metadata": {},
   "outputs": [],
   "source": []
  },
  {
   "cell_type": "code",
   "execution_count": null,
   "id": "94e874e0",
   "metadata": {},
   "outputs": [],
   "source": []
  },
  {
   "cell_type": "code",
   "execution_count": null,
   "id": "222617e2",
   "metadata": {},
   "outputs": [],
   "source": []
  },
  {
   "cell_type": "code",
   "execution_count": null,
   "id": "c7dd5e7a",
   "metadata": {},
   "outputs": [],
   "source": []
  },
  {
   "cell_type": "code",
   "execution_count": null,
   "id": "d0877c50",
   "metadata": {},
   "outputs": [],
   "source": []
  },
  {
   "cell_type": "code",
   "execution_count": null,
   "id": "d1e06785",
   "metadata": {},
   "outputs": [],
   "source": []
  },
  {
   "cell_type": "code",
   "execution_count": null,
   "id": "cbbc6b1f",
   "metadata": {},
   "outputs": [],
   "source": []
  },
  {
   "cell_type": "code",
   "execution_count": null,
   "id": "6d6ada9f",
   "metadata": {},
   "outputs": [],
   "source": []
  },
  {
   "cell_type": "code",
   "execution_count": null,
   "id": "90218ba9",
   "metadata": {},
   "outputs": [],
   "source": []
  },
  {
   "cell_type": "code",
   "execution_count": null,
   "id": "8e3d2fa1",
   "metadata": {},
   "outputs": [],
   "source": []
  }
 ],
 "metadata": {
  "kernelspec": {
   "display_name": "agentic_AI",
   "language": "python",
   "name": "python3"
  },
  "language_info": {
   "codemirror_mode": {
    "name": "ipython",
    "version": 3
   },
   "file_extension": ".py",
   "mimetype": "text/x-python",
   "name": "python",
   "nbconvert_exporter": "python",
   "pygments_lexer": "ipython3",
   "version": "3.11.13"
  }
 },
 "nbformat": 4,
 "nbformat_minor": 5
}
