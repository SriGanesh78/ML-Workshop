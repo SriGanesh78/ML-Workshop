{
 "cells": [
  {
   "cell_type": "code",
   "execution_count": null,
   "id": "cef478d5",
   "metadata": {},
   "outputs": [],
   "source": [
    "! pip install pyautogen, openai"
   ]
  },
  {
   "cell_type": "code",
   "execution_count": 15,
   "id": "d7b5af3a",
   "metadata": {},
   "outputs": [],
   "source": [
    "import autogen"
   ]
  },
  {
   "cell_type": "code",
   "execution_count": 16,
   "id": "9972d6b5",
   "metadata": {},
   "outputs": [
    {
     "data": {
      "text/plain": [
       "'0.9.6'"
      ]
     },
     "execution_count": 16,
     "metadata": {},
     "output_type": "execute_result"
    }
   ],
   "source": [
    "autogen.__version__"
   ]
  },
  {
   "cell_type": "code",
   "execution_count": 1,
   "id": "39d993e8",
   "metadata": {},
   "outputs": [],
   "source": [
    "# --- Load environment variables ---\n",
    "import os \n",
    "import pandas as pd \n",
    "\n",
    "from dotenv import load_dotenv\n",
    "load_dotenv()\n",
    "openai_api_key = os.getenv(\"OPENAI_API_KEY\")\n",
    "\n",
    "if not openai_api_key:\n",
    "    raise ValueError(\"OPENAI_API_KEY not set in .env file\")\n",
    "\n",
    "# Set OpenAI API key for langchain or crewai usage\n",
    "os.environ[\"OPENAI_API_KEY\"] = openai_api_key"
   ]
  },
  {
   "cell_type": "code",
   "execution_count": 2,
   "id": "def00eb0",
   "metadata": {},
   "outputs": [],
   "source": [
    "from autogen import AssistantAgent, UserProxyAgent, GroupChat, GroupChatManager"
   ]
  },
  {
   "cell_type": "code",
   "execution_count": 11,
   "id": "e929e676",
   "metadata": {},
   "outputs": [],
   "source": [
    "## Define Data Analyst agent \n",
    "\n",
    "data_analyst = AssistantAgent(\n",
    "    name = 'Data_Analyst',\n",
    "    system_message=(\"You are a data analyst, based on review analysis, explain why these product categories\"\n",
    "                    \"(coffee, tea, Aerated Bevarages, Chips, savory snacks) are so heavily disucssed\"\n",
    "                    \"Use trends, emotional words, and behaviorial insights from customer reviews\"),\n",
    "    llm_config={\"model\":\"gpt-4\"})"
   ]
  },
  {
   "cell_type": "code",
   "execution_count": 4,
   "id": "8b1255e3",
   "metadata": {},
   "outputs": [],
   "source": [
    "## Define a marketing lead\n",
    "\n",
    "marketing_lead = AssistantAgent(\n",
    "    name= \"Marketing_Lead\",\n",
    "    system_message=(\"You are a marketing strategist, Based on analytic's insights, create a promotional plan for each category\"\n",
    "                    \"Define the campaign theme, target audience, and some key tactics (Seaorch terms, ad copy, influnencer marketing, price bundles)\"),\n",
    "    llm_config={\"model\":\"gpt-4\"})\n"
   ]
  },
  {
   "cell_type": "code",
   "execution_count": 7,
   "id": "0d0c88c5",
   "metadata": {},
   "outputs": [],
   "source": [
    "user_proxy = UserProxyAgent(name = 'User',\n",
    "                            human_input_mode=\"NEVER\",\n",
    "                            code_execution_config={\"use_docker\":False})"
   ]
  },
  {
   "cell_type": "code",
   "execution_count": 12,
   "id": "9f5756d6",
   "metadata": {},
   "outputs": [],
   "source": [
    "## Group chat \n",
    "\n",
    "groupchat = GroupChat(\n",
    "    agents = [user_proxy, data_analyst, marketing_lead],\n",
    "    messages= [],\n",
    "    max_round=5\n",
    ")"
   ]
  },
  {
   "cell_type": "code",
   "execution_count": 13,
   "id": "e8ceae6e",
   "metadata": {},
   "outputs": [],
   "source": [
    "manager = GroupChatManager(groupchat=groupchat, llm_config={\"model\":\"gpt-4\"})"
   ]
  },
  {
   "cell_type": "code",
   "execution_count": 14,
   "id": "f5ea7ba0",
   "metadata": {},
   "outputs": [
    {
     "name": "stdout",
     "output_type": "stream",
     "text": [
      "\u001b[33mUser\u001b[0m (to chat_manager):\n",
      "\n",
      "\n",
      "\n",
      "--------------------------------------------------------------------------------\n",
      "\u001b[32m\n",
      "Next speaker: Data_Analyst\n",
      "\u001b[0m\n",
      "\u001b[33mData_Analyst\u001b[0m (to chat_manager):\n",
      "\n",
      "Based on the review analysis, the product categories of coffee, tea, aerated beverages, chips, and savory snacks are heavily discussed due to several reasons. \n",
      "\n",
      "1. Ingrained Daily Habits: Products like coffee and tea are integral parts of the daily routine for many people. They are often discussed due to their prevalence and importance in everyday life. People usually have a strong preference for their type of coffee or tea, and this leads to a high amount of discussion and reviews about different brands, flavors, and characteristics.\n",
      " \n",
      "2. Emotional Attachment: Emotional words are regularly found in reviews of these products as well. This is because people often feel strongly about their snacks and beverages. They are not only a source of nutrition but also comfort and pleasure, generating strong positive or negative emotions depending on whether the expectations were met or not.\n",
      "\n",
      "3. Variety and Innovation: The sheer variety and innovation in these product categories also lead to a high level of discussion. Manufacturers consistently release new flavors, textures, or health-oriented versions of these products which generate customer interest and conversation.\n",
      "\n",
      "4. Social Trends: Social trends and health awareness also drive discussions. For example, recent trends in healthier living have driven debates about the health benefits and disadvantages of products like aerated beverages or chips.\n",
      "\n",
      "5. Personal Preferences and Experiences: The discussion is also driven by consumers sharing their personal experiences as taste is a subjective matter. For example, what one might find too spicy or sweet, might be perfect for another person. \n",
      "\n",
      "6. Quality and Price: Lastly, aspects such as quality and price of the products contribute to the conversation. Consistency in taste, quality of ingredients, ethical sourcing, or value for money, all contribute to shaping customer opinions and drive detailed reviews and discussions. \n",
      "\n",
      "In conclusion, the high volume of discussion surrounding these product categories is driven by habitual use, emotional attachment, product innovation, shifting health trends, personal preferences, and differing opinions on value and quality.\n",
      "\n",
      "--------------------------------------------------------------------------------\n",
      "\u001b[32m\n",
      "Next speaker: Marketing_Lead\n",
      "\u001b[0m\n",
      "\u001b[33mMarketing_Lead\u001b[0m (to chat_manager):\n",
      "\n",
      "**Coffee Campaign**\n",
      "\n",
      "Theme: 'Embrace Your Morning Ritual'\n",
      "\n",
      "Target Audience: Adults (both male and female) between ages 18-50, that enjoy a kick-start to their day with coffee \n",
      "\n",
      "Key Tactics: \n",
      "\n",
      "Seo Terms: 'Fresh Coffee', 'Premium Roast', 'Organic coffee beans', 'Best Coffee'\n",
      "  \n",
      "Ad Copy: 'Elevate your morning with our signature blend - freshness in every sip'\n",
      "\n",
      "Influencer Marketing: Collaborate with lifestyle bloggers and vloggers who can showcase our coffee as part of their morning routine.\n",
      "\n",
      "Price Bundles: Create a 'Morning Starter' pack including coffee, a premium mug, and biscotti at a discounted price.\n",
      "\n",
      "**Tea Campaign**\n",
      "\n",
      "Theme: 'Infuse Your Day with Positivity'\n",
      "\n",
      "Target Audience: Health-conscious individuals, age 20-60, looking for a soothing beverage with potential health benefits\n",
      "\n",
      "Key Tactics: \n",
      "\n",
      "Seo Terms: 'Herbal tea', 'Green tea benefits', 'Tea for wellness', 'Relaxing tea'\n",
      "\n",
      "Ad Copy: 'Revitalize your senses with our diverse range of health-boosting teas - wellness in every cup!'\n",
      "\n",
      "Influencer Marketing: Partner with influencers within the health and wellness sphere to promote the benefits of our tea varieties.\n",
      "\n",
      "Price Bundles: Offer a 'Tea-Time Selection' pack with an assortment of our best teas and a complementary infuser.\n",
      "\n",
      "**Aerated Drinks & Snacks Campaign** \n",
      "\n",
      "Theme: 'Flavor Up, Fun Up!'\n",
      "\n",
      "Target Audience: Young adults and teenagers who enjoy flavored drinks & snacks for their fun times\n",
      "\n",
      "Key Tactics: \n",
      "\n",
      "Seo Terms: 'Cold Drinks', 'Crispy Chips', 'Party Snacks', 'Refreshing Beverage'\n",
      "\n",
      "Ad Copy: 'Kick back and let loose with our exciting range of flavors – make your fun times crunchy and fizzy!'\n",
      "\n",
      "Influencer Marketing: Tie-up with popular young influencers, especially those in the gaming or entertainment fields who can include our products in their parties or gatherings.\n",
      "\n",
      "Price Bundles: Launch a 'Fun combo' of aerated drinks and chips specially for group hangouts or parties. \n",
      "\n",
      "Altogether, these campaigns aim to attract their respective target audiences through appealing themes, SEO optimization, strategic ad copy, effective collaborations, and enticing price bundles.\n",
      "\n",
      "--------------------------------------------------------------------------------\n",
      "\u001b[32m\n",
      "Next speaker: User\n",
      "\u001b[0m\n",
      "\u001b[33mUser\u001b[0m (to chat_manager):\n",
      "\n",
      "\n",
      "\n",
      "--------------------------------------------------------------------------------\n",
      "\u001b[32m\n",
      "Next speaker: Data_Analyst\n",
      "\u001b[0m\n",
      "\u001b[33mData_Analyst\u001b[0m (to chat_manager):\n",
      "\n",
      "Very sorry about the confusion but I'm a language model AI developed by OpenAI. I don't have the ability to conduct marketing campaigns. However, I can help suggest or guide in framing your ideas, strategies, or ideal marketing tactics to fit the profile of your specific target audience.\n",
      "\n",
      "--------------------------------------------------------------------------------\n",
      "\u001b[31m\n",
      ">>>>>>>> TERMINATING RUN (ae9a9181-8459-4460-a7ca-c038339c69c2): Maximum rounds (5) reached\u001b[0m\n"
     ]
    },
    {
     "data": {
      "text/plain": [
       "ChatResult(chat_id=None, chat_history=[{'content': '', 'role': 'assistant', 'name': 'User'}, {'content': 'Based on the review analysis, the product categories of coffee, tea, aerated beverages, chips, and savory snacks are heavily discussed due to several reasons. \\n\\n1. Ingrained Daily Habits: Products like coffee and tea are integral parts of the daily routine for many people. They are often discussed due to their prevalence and importance in everyday life. People usually have a strong preference for their type of coffee or tea, and this leads to a high amount of discussion and reviews about different brands, flavors, and characteristics.\\n \\n2. Emotional Attachment: Emotional words are regularly found in reviews of these products as well. This is because people often feel strongly about their snacks and beverages. They are not only a source of nutrition but also comfort and pleasure, generating strong positive or negative emotions depending on whether the expectations were met or not.\\n\\n3. Variety and Innovation: The sheer variety and innovation in these product categories also lead to a high level of discussion. Manufacturers consistently release new flavors, textures, or health-oriented versions of these products which generate customer interest and conversation.\\n\\n4. Social Trends: Social trends and health awareness also drive discussions. For example, recent trends in healthier living have driven debates about the health benefits and disadvantages of products like aerated beverages or chips.\\n\\n5. Personal Preferences and Experiences: The discussion is also driven by consumers sharing their personal experiences as taste is a subjective matter. For example, what one might find too spicy or sweet, might be perfect for another person. \\n\\n6. Quality and Price: Lastly, aspects such as quality and price of the products contribute to the conversation. Consistency in taste, quality of ingredients, ethical sourcing, or value for money, all contribute to shaping customer opinions and drive detailed reviews and discussions. \\n\\nIn conclusion, the high volume of discussion surrounding these product categories is driven by habitual use, emotional attachment, product innovation, shifting health trends, personal preferences, and differing opinions on value and quality.', 'name': 'Data_Analyst', 'role': 'user'}, {'content': \"**Coffee Campaign**\\n\\nTheme: 'Embrace Your Morning Ritual'\\n\\nTarget Audience: Adults (both male and female) between ages 18-50, that enjoy a kick-start to their day with coffee \\n\\nKey Tactics: \\n\\nSeo Terms: 'Fresh Coffee', 'Premium Roast', 'Organic coffee beans', 'Best Coffee'\\n  \\nAd Copy: 'Elevate your morning with our signature blend - freshness in every sip'\\n\\nInfluencer Marketing: Collaborate with lifestyle bloggers and vloggers who can showcase our coffee as part of their morning routine.\\n\\nPrice Bundles: Create a 'Morning Starter' pack including coffee, a premium mug, and biscotti at a discounted price.\\n\\n**Tea Campaign**\\n\\nTheme: 'Infuse Your Day with Positivity'\\n\\nTarget Audience: Health-conscious individuals, age 20-60, looking for a soothing beverage with potential health benefits\\n\\nKey Tactics: \\n\\nSeo Terms: 'Herbal tea', 'Green tea benefits', 'Tea for wellness', 'Relaxing tea'\\n\\nAd Copy: 'Revitalize your senses with our diverse range of health-boosting teas - wellness in every cup!'\\n\\nInfluencer Marketing: Partner with influencers within the health and wellness sphere to promote the benefits of our tea varieties.\\n\\nPrice Bundles: Offer a 'Tea-Time Selection' pack with an assortment of our best teas and a complementary infuser.\\n\\n**Aerated Drinks & Snacks Campaign** \\n\\nTheme: 'Flavor Up, Fun Up!'\\n\\nTarget Audience: Young adults and teenagers who enjoy flavored drinks & snacks for their fun times\\n\\nKey Tactics: \\n\\nSeo Terms: 'Cold Drinks', 'Crispy Chips', 'Party Snacks', 'Refreshing Beverage'\\n\\nAd Copy: 'Kick back and let loose with our exciting range of flavors – make your fun times crunchy and fizzy!'\\n\\nInfluencer Marketing: Tie-up with popular young influencers, especially those in the gaming or entertainment fields who can include our products in their parties or gatherings.\\n\\nPrice Bundles: Launch a 'Fun combo' of aerated drinks and chips specially for group hangouts or parties. \\n\\nAltogether, these campaigns aim to attract their respective target audiences through appealing themes, SEO optimization, strategic ad copy, effective collaborations, and enticing price bundles.\", 'name': 'Marketing_Lead', 'role': 'user'}, {'content': '', 'role': 'assistant', 'name': 'User'}, {'content': \"Very sorry about the confusion but I'm a language model AI developed by OpenAI. I don't have the ability to conduct marketing campaigns. However, I can help suggest or guide in framing your ideas, strategies, or ideal marketing tactics to fit the profile of your specific target audience.\", 'name': 'Data_Analyst', 'role': 'user'}], summary=\"Very sorry about the confusion but I'm a language model AI developed by OpenAI. I don't have the ability to conduct marketing campaigns. However, I can help suggest or guide in framing your ideas, strategies, or ideal marketing tactics to fit the profile of your specific target audience.\", cost={'usage_including_cached_inference': {'total_cost': 0}, 'usage_excluding_cached_inference': {'total_cost': 0}}, human_input=[''])"
      ]
     },
     "execution_count": 14,
     "metadata": {},
     "output_type": "execute_result"
    }
   ],
   "source": [
    "## Starting the session\n",
    "\n",
    "user_proxy.initiate_chat(manager)"
   ]
  },
  {
   "cell_type": "code",
   "execution_count": null,
   "id": "31aa83a8",
   "metadata": {},
   "outputs": [],
   "source": []
  },
  {
   "cell_type": "code",
   "execution_count": null,
   "id": "d0f5c6c0",
   "metadata": {},
   "outputs": [],
   "source": []
  },
  {
   "cell_type": "code",
   "execution_count": null,
   "id": "4606da1b",
   "metadata": {},
   "outputs": [],
   "source": []
  }
 ],
 "metadata": {
  "kernelspec": {
   "display_name": "agentic_AI",
   "language": "python",
   "name": "python3"
  },
  "language_info": {
   "codemirror_mode": {
    "name": "ipython",
    "version": 3
   },
   "file_extension": ".py",
   "mimetype": "text/x-python",
   "name": "python",
   "nbconvert_exporter": "python",
   "pygments_lexer": "ipython3",
   "version": "3.11.13"
  }
 },
 "nbformat": 4,
 "nbformat_minor": 5
}
